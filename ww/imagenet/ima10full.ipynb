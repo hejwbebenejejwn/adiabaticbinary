{
 "cells": [
  {
   "cell_type": "code",
   "execution_count": 1,
   "metadata": {},
   "outputs": [],
   "source": [
    "import sys\n",
    "\n",
    "modules_dir = 'D:/usr14/project/Binary/adiabaticbinary/ww'\n",
    "sys.path.insert(0, modules_dir)"
   ]
  },
  {
   "cell_type": "code",
   "execution_count": 2,
   "metadata": {},
   "outputs": [],
   "source": [
    "from modules import resnet1\n",
    "import torch\n",
    "import torch.nn as nn\n",
    "from torch.utils.data import DataLoader\n",
    "import numpy as np\n",
    "from readdata import read_dataset"
   ]
  },
  {
   "cell_type": "code",
   "execution_count": 3,
   "metadata": {},
   "outputs": [],
   "source": [
    "device=torch.device('cuda')\n",
    "def fit(model:resnet1.ResNet, optim,lossfunc,trainloader: DataLoader):\n",
    "    model.train()\n",
    "    totalloss = 0\n",
    "    for data, target in trainloader:\n",
    "        data, target = data.to(device), target.to(device)\n",
    "        optim.zero_grad()\n",
    "        output = model(data).to(device)\n",
    "        loss = lossfunc(output, target)\n",
    "        loss.backward()\n",
    "        optim.step()\n",
    "        with torch.no_grad():\n",
    "            totalloss += loss.item()*data.size(0)\n",
    "    return totalloss/len(trainloader.sampler)\n",
    "\n",
    "def evaluate(model:resnet1.ResNet, val_loader: DataLoader,lossfunc:nn.CrossEntropyLoss):\n",
    "    model.eval()\n",
    "    loss=0\n",
    "    correct = 0\n",
    "    total = 0\n",
    "    with torch.no_grad():\n",
    "        for inputs, labels in val_loader:\n",
    "            inputs, labels = inputs.to(device), labels.to(device)\n",
    "            outputs = model(inputs).to(device)\n",
    "            loss+=lossfunc(outputs,labels).item()*inputs.size(0)\n",
    "            _, predicted = torch.max(outputs, 1)\n",
    "            total += labels.size(0)\n",
    "            correct+=(predicted==labels).sum().item()\n",
    "\n",
    "    return loss/len(val_loader.sampler) ,correct / total"
   ]
  },
  {
   "cell_type": "code",
   "execution_count": 8,
   "metadata": {},
   "outputs": [],
   "source": [
    "model = resnet1.ResNet(False, False).to(device)\n",
    "lossfunc=nn.CrossEntropyLoss().to(device)\n",
    "train_loader,val_loader,test_loader=read_dataset(64)"
   ]
  },
  {
   "cell_type": "code",
   "execution_count": null,
   "metadata": {},
   "outputs": [],
   "source": [
    "lr=0.1\n",
    "counter=0\n",
    "min_val_loss=np.inf\n",
    "for epoch in range(150):\n",
    "    if counter/10==1:\n",
    "        counter=0\n",
    "        lr*=0.5\n",
    "        print(f\"lr reduced to {lr}\")\n",
    "    optim=torch.optim.SGD(model.parameters(), lr=lr, momentum=0.9, weight_decay=5e-4)\n",
    "    loss=fit(model,optim,lossfunc,train_loader)\n",
    "    val_loss,val_acc=evaluate(model,val_loader,lossfunc)\n",
    "    print(f'epoch: {epoch+1}, loss: {loss}, val_loss: {val_loss}, val_acc:{val_acc}')\n",
    "    if val_loss<min_val_loss:\n",
    "        min_val_loss=val_loss\n",
    "        print(f\"val loss reduced to {min_val_loss}\")\n",
    "        counter=0\n",
    "        torch.save(model.state_dict(), 'pre1.pth')\n",
    "    else:\n",
    "        counter+=1"
   ]
  }
 ],
 "metadata": {
  "kernelspec": {
   "display_name": "bry",
   "language": "python",
   "name": "python3"
  },
  "language_info": {
   "codemirror_mode": {
    "name": "ipython",
    "version": 3
   },
   "file_extension": ".py",
   "mimetype": "text/x-python",
   "name": "python",
   "nbconvert_exporter": "python",
   "pygments_lexer": "ipython3",
   "version": "3.9.18"
  }
 },
 "nbformat": 4,
 "nbformat_minor": 2
}
